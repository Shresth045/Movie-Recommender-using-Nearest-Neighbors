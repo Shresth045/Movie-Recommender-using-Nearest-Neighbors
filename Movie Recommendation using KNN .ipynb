{
 "cells": [
  {
   "cell_type": "code",
   "execution_count": 1,
   "id": "bdc64234",
   "metadata": {},
   "outputs": [],
   "source": [
    "##Dataset url: https://grouplens.org/datasets/movielens/latest/\n",
    "\n",
    "import numpy as np\n",
    "import pandas as pd \n",
    "import matplotlib.pyplot as plt\n",
    "import seaborn as sns\n",
    "%matplotlib inline\n",
    "pd.pandas.set_option('display.max_columns',None)"
   ]
  },
  {
   "cell_type": "code",
   "execution_count": 2,
   "id": "d25e41b7",
   "metadata": {},
   "outputs": [],
   "source": [
    "movies_df = pd.read_csv('C:/Users/DELL/Downloads/ml-latest-small/movies.csv',usecols=['movieId','title'],dtype={'movieId': 'int32', 'title': 'str'})\n",
    "rating_df=pd.read_csv('C:/Users/DELL/Downloads/ml-latest-small/ratings.csv',usecols=['userId', 'movieId', 'rating'],\n",
    "    dtype={'userId': 'int32', 'movieId': 'int32', 'rating': 'float32'})"
   ]
  },
  {
   "cell_type": "code",
   "execution_count": 3,
   "id": "52480848",
   "metadata": {},
   "outputs": [
    {
     "data": {
      "text/html": [
       "<div>\n",
       "<style scoped>\n",
       "    .dataframe tbody tr th:only-of-type {\n",
       "        vertical-align: middle;\n",
       "    }\n",
       "\n",
       "    .dataframe tbody tr th {\n",
       "        vertical-align: top;\n",
       "    }\n",
       "\n",
       "    .dataframe thead th {\n",
       "        text-align: right;\n",
       "    }\n",
       "</style>\n",
       "<table border=\"1\" class=\"dataframe\">\n",
       "  <thead>\n",
       "    <tr style=\"text-align: right;\">\n",
       "      <th></th>\n",
       "      <th>movieId</th>\n",
       "      <th>title</th>\n",
       "      <th>userId</th>\n",
       "      <th>rating</th>\n",
       "    </tr>\n",
       "  </thead>\n",
       "  <tbody>\n",
       "    <tr>\n",
       "      <th>0</th>\n",
       "      <td>1</td>\n",
       "      <td>Toy Story (1995)</td>\n",
       "      <td>1</td>\n",
       "      <td>4.0</td>\n",
       "    </tr>\n",
       "    <tr>\n",
       "      <th>1</th>\n",
       "      <td>1</td>\n",
       "      <td>Toy Story (1995)</td>\n",
       "      <td>5</td>\n",
       "      <td>4.0</td>\n",
       "    </tr>\n",
       "    <tr>\n",
       "      <th>2</th>\n",
       "      <td>1</td>\n",
       "      <td>Toy Story (1995)</td>\n",
       "      <td>7</td>\n",
       "      <td>4.5</td>\n",
       "    </tr>\n",
       "    <tr>\n",
       "      <th>3</th>\n",
       "      <td>1</td>\n",
       "      <td>Toy Story (1995)</td>\n",
       "      <td>15</td>\n",
       "      <td>2.5</td>\n",
       "    </tr>\n",
       "    <tr>\n",
       "      <th>4</th>\n",
       "      <td>1</td>\n",
       "      <td>Toy Story (1995)</td>\n",
       "      <td>17</td>\n",
       "      <td>4.5</td>\n",
       "    </tr>\n",
       "  </tbody>\n",
       "</table>\n",
       "</div>"
      ],
      "text/plain": [
       "   movieId             title  userId  rating\n",
       "0        1  Toy Story (1995)       1     4.0\n",
       "1        1  Toy Story (1995)       5     4.0\n",
       "2        1  Toy Story (1995)       7     4.5\n",
       "3        1  Toy Story (1995)      15     2.5\n",
       "4        1  Toy Story (1995)      17     4.5"
      ]
     },
     "execution_count": 3,
     "metadata": {},
     "output_type": "execute_result"
    }
   ],
   "source": [
    "df=pd.merge(movies_df,rating_df,on='movieId')\n",
    "df.head()"
   ]
  },
  {
   "cell_type": "code",
   "execution_count": 4,
   "id": "2f1b832a",
   "metadata": {},
   "outputs": [],
   "source": [
    "combine_movie_rating = df.dropna(axis = 0, subset = ['title'])\n",
    "movie_rating=(combine_movie_rating.groupby(by=['title'])['rating'].count().reset_index()\n",
    ".rename(columns={'rating':'totalRatingCount'})[['title','totalRatingCount']])"
   ]
  },
  {
   "cell_type": "code",
   "execution_count": 5,
   "id": "27c4133e",
   "metadata": {},
   "outputs": [],
   "source": [
    "data=movie_rating.merge(combine_movie_rating,right_on='title',left_on='title',how='left')"
   ]
  },
  {
   "cell_type": "code",
   "execution_count": 6,
   "id": "ae8212a8",
   "metadata": {},
   "outputs": [],
   "source": [
    "popular_movies=data.query('totalRatingCount >= 50')"
   ]
  },
  {
   "cell_type": "code",
   "execution_count": 29,
   "id": "35eb09c0",
   "metadata": {},
   "outputs": [],
   "source": [
    "movie_features=popular_movies.pivot_table(index='title',columns='userId',values='rating').fillna(0)"
   ]
  },
  {
   "cell_type": "code",
   "execution_count": 8,
   "id": "5ec2ac2b",
   "metadata": {},
   "outputs": [],
   "source": [
    "#Convertion to sparse matrix\n",
    "from scipy.sparse import csr_matrix\n",
    "movie_features=csr_matrix(movie_features.values)"
   ]
  },
  {
   "cell_type": "code",
   "execution_count": 32,
   "id": "e71f65c7",
   "metadata": {},
   "outputs": [
    {
     "data": {
      "text/plain": [
       "NearestNeighbors(algorithm='brute', metric='cosine')"
      ]
     },
     "execution_count": 32,
     "metadata": {},
     "output_type": "execute_result"
    }
   ],
   "source": [
    "from sklearn.neighbors import NearestNeighbors\n",
    "\n",
    "model_knn = NearestNeighbors(metric='cosine',algorithm='brute')\n",
    "model_knn.fit(movie_features)"
   ]
  },
  {
   "cell_type": "code",
   "execution_count": null,
   "id": "04580812",
   "metadata": {},
   "outputs": [],
   "source": []
  },
  {
   "cell_type": "code",
   "execution_count": 34,
   "id": "fa111121",
   "metadata": {},
   "outputs": [
    {
     "name": "stdout",
     "output_type": "stream",
     "text": [
      "209\n"
     ]
    }
   ],
   "source": [
    "query_index = np.random.choice(movie_features.shape[0])\n",
    "print(query_index)\n",
    "distances, indices = model_knn.kneighbors(movie_features.iloc[query_index,:].values.reshape(1, -1), n_neighbors = 6)"
   ]
  },
  {
   "cell_type": "code",
   "execution_count": 41,
   "id": "a8a628bc",
   "metadata": {},
   "outputs": [
    {
     "name": "stdout",
     "output_type": "stream",
     "text": [
      "Recommendations for I, Robot (2004):\n",
      "\n",
      "1: Day After Tomorrow, The (2004), with distance of 0.34219491481781006:\n",
      "2: War of the Worlds (2005), with distance of 0.36272746324539185:\n",
      "3: Matrix Revolutions, The (2003), with distance of 0.37619417905807495:\n",
      "4: Matrix Reloaded, The (2003), with distance of 0.39271634817123413:\n",
      "5: 300 (2007), with distance of 0.3957594633102417:\n"
     ]
    }
   ],
   "source": [
    "for i in range(0, len(distances.flatten())):\n",
    "    if i == 0:\n",
    "        print('Recommendations for {0}:\\n'.format(movie_features.index[query_index]))\n",
    "    else:\n",
    "        print('{0}: {1}, with distance of {2}:'.format(i, movie_features.index[indices.flatten()[i]], distances.flatten()[i]))"
   ]
  },
  {
   "cell_type": "code",
   "execution_count": null,
   "id": "3b39b48e",
   "metadata": {},
   "outputs": [],
   "source": []
  },
  {
   "cell_type": "code",
   "execution_count": null,
   "id": "fcddb437",
   "metadata": {},
   "outputs": [],
   "source": []
  },
  {
   "cell_type": "code",
   "execution_count": null,
   "id": "40f56ce5",
   "metadata": {},
   "outputs": [],
   "source": []
  }
 ],
 "metadata": {
  "kernelspec": {
   "display_name": "Python 3",
   "language": "python",
   "name": "python3"
  },
  "language_info": {
   "codemirror_mode": {
    "name": "ipython",
    "version": 3
   },
   "file_extension": ".py",
   "mimetype": "text/x-python",
   "name": "python",
   "nbconvert_exporter": "python",
   "pygments_lexer": "ipython3",
   "version": "3.8.8"
  }
 },
 "nbformat": 4,
 "nbformat_minor": 5
}
